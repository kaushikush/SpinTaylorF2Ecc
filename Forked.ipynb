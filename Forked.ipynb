{
 "cells": [
  {
   "cell_type": "code",
   "execution_count": 1,
   "metadata": {},
   "outputs": [],
   "source": [
    "import lalsimulation as ls"
   ]
  },
  {
   "cell_type": "code",
   "execution_count": 2,
   "metadata": {},
   "outputs": [
    {
     "data": {
      "text/plain": [
       "<function lalsimulation._lalsimulation.SimInspiralENIGMA>"
      ]
     },
     "execution_count": 2,
     "metadata": {},
     "output_type": "execute_result"
    }
   ],
   "source": [
    "ls.SimInspiralENIGMA"
   ]
  },
  {
   "cell_type": "code",
   "execution_count": 3,
   "metadata": {},
   "outputs": [
    {
     "data": {
      "text/plain": [
       "<function lalsimulation._lalsimulation.SimInspiralENIGMAStrainFromDynamics>"
      ]
     },
     "execution_count": 3,
     "metadata": {},
     "output_type": "execute_result"
    }
   ],
   "source": [
    "ls.SimInspiralENIGMA       \n",
    "ls.SimInspiralENIGMADynamics  \n",
    "ls.SimInspiralENIGMAStrainFromDynamics\n"
   ]
  },
  {
   "cell_type": "code",
   "execution_count": 4,
   "metadata": {},
   "outputs": [],
   "source": [
    "ls.SimInspiralENIGMADynamics?"
   ]
  },
  {
   "cell_type": "code",
   "execution_count": 5,
   "metadata": {},
   "outputs": [
    {
     "ename": "RuntimeError",
     "evalue": "Exceeded maximum number of iterations",
     "output_type": "error",
     "traceback": [
      "\u001b[0;31m---------------------------------------------------------------------------\u001b[0m",
      "\u001b[0;31mRuntimeError\u001b[0m                              Traceback (most recent call last)",
      "\u001b[0;32m<ipython-input-5-d0a1d322cec7>\u001b[0m in \u001b[0;36m<module>\u001b[0;34m\u001b[0m\n\u001b[1;32m     13\u001b[0m \u001b[0;34m\u001b[0m\u001b[0m\n\u001b[1;32m     14\u001b[0m \u001b[0;34m\u001b[0m\u001b[0m\n\u001b[0;32m---> 15\u001b[0;31m \u001b[0mret\u001b[0m \u001b[0;34m=\u001b[0m \u001b[0mls\u001b[0m\u001b[0;34m.\u001b[0m\u001b[0mSimInspiralENIGMADynamics\u001b[0m\u001b[0;34m(\u001b[0m\u001b[0mm1\u001b[0m\u001b[0;34m,\u001b[0m \u001b[0mm2\u001b[0m\u001b[0;34m,\u001b[0m \u001b[0mS1z\u001b[0m\u001b[0;34m,\u001b[0m \u001b[0mS2z\u001b[0m\u001b[0;34m,\u001b[0m \u001b[0me0\u001b[0m\u001b[0;34m,\u001b[0m \u001b[0mf0\u001b[0m\u001b[0;34m,\u001b[0m \u001b[0ml0\u001b[0m\u001b[0;34m,\u001b[0m \u001b[0meps\u001b[0m\u001b[0;34m,\u001b[0m \u001b[0msrate\u001b[0m\u001b[0;34m)\u001b[0m\u001b[0;34m\u001b[0m\u001b[0;34m\u001b[0m\u001b[0m\n\u001b[0m",
      "\u001b[0;31mRuntimeError\u001b[0m: Exceeded maximum number of iterations"
     ]
    }
   ],
   "source": [
    "import matplotlib.pyplot as plt\n",
    "import lalsimulation as ls\n",
    "\n",
    "m1 = 10.\n",
    "m2 = 5.\n",
    "e0 = 0.1\n",
    "f0 = 10.\n",
    "l0 = 0.\n",
    "eps = 1.e-8\n",
    "srate = 8192\n",
    "S1z = 0.0\n",
    "S2z = 0.0\n",
    "\n",
    "\n",
    "ret = ls.SimInspiralENIGMADynamics(m1, m2, S1z, S2z, e0, f0, l0, eps, srate)\n"
   ]
  },
  {
   "cell_type": "code",
   "execution_count": 6,
   "metadata": {},
   "outputs": [
    {
     "name": "stdout",
     "output_type": "stream",
     "text": [
      "00boot\t\t aclocal.m4\t gnuscripts\tlalsuite-user-env.csh\r\n",
      "CONTRIBUTING.md  autom4te.cache  lal\t\tlalsuite-user-env.fish\r\n",
      "COPYING\t\t conda\t\t lalapps\tlalsuite-user-env.sh\r\n",
      "ENIGMA.h5\t config.log\t lalburst\tlalsuite-user-env.shell\r\n",
      "Forked.ipynb\t config.status\t lalframe\tlalsuiterc\r\n",
      "Makefile\t configure\t lalinference\tswig\r\n",
      "Makefile.am\t configure.ac\t lalinspiral\ttest\r\n",
      "Makefile.in\t docker\t\t lalmetaio\twheel\r\n",
      "README.md\t doxygen\t lalpulsar\r\n",
      "RELEASE.md\t fork_data.txt\t lalsimulation\r\n"
     ]
    }
   ],
   "source": [
    "!ls"
   ]
  },
  {
   "cell_type": "code",
   "execution_count": 6,
   "metadata": {},
   "outputs": [
    {
     "name": "stdout",
     "output_type": "stream",
     "text": [
      "00boot\t\t aclocal.m4\t gnuscripts\tlalsuite-user-env.csh\r\n",
      "CONTRIBUTING.md  autom4te.cache  lal\t\tlalsuite-user-env.fish\r\n",
      "COPYING\t\t conda\t\t lalapps\tlalsuite-user-env.sh\r\n",
      "ENIGMA.h5\t config.log\t lalburst\tlalsuite-user-env.shell\r\n",
      "Forked.ipynb\t config.status\t lalframe\tlalsuiterc\r\n",
      "Makefile\t configure\t lalinference\tswig\r\n",
      "Makefile.am\t configure.ac\t lalinspiral\ttest\r\n",
      "Makefile.in\t docker\t\t lalmetaio\twheel\r\n",
      "README.md\t doxygen\t lalpulsar\r\n",
      "RELEASE.md\t fork_data.txt\t lalsimulation\r\n"
     ]
    }
   ],
   "source": [
    "!ls"
   ]
  },
  {
   "cell_type": "code",
   "execution_count": 7,
   "metadata": {},
   "outputs": [],
   "source": [
    "import numpy as np"
   ]
  },
  {
   "cell_type": "code",
   "execution_count": 9,
   "metadata": {},
   "outputs": [
    {
     "name": "stdout",
     "output_type": "stream",
     "text": [
      "00boot\t\t aclocal.m4\t lal\t\t\tlalsuite-user-env.fish\r\n",
      "CONTRIBUTING.md  autom4te.cache  lalapps\t\tlalsuite-user-env.sh\r\n",
      "COPYING\t\t conda\t\t lalburst\t\tlalsuite-user-env.shell\r\n",
      "ENIGMA.h5\t config.log\t lalframe\t\tlalsuiterc\r\n",
      "Forked.ipynb\t config.status\t lalinference\t\tswig\r\n",
      "Makefile\t configure\t lalinspiral\t\ttest\r\n",
      "Makefile.am\t configure.ac\t lalmetaio\t\twheel\r\n",
      "Makefile.in\t docker\t\t lalpulsar\r\n",
      "README.md\t doxygen\t lalsimulation\r\n",
      "RELEASE.md\t gnuscripts\t lalsuite-user-env.csh\r\n"
     ]
    }
   ],
   "source": [
    "!ls"
   ]
  },
  {
   "cell_type": "code",
   "execution_count": 8,
   "metadata": {},
   "outputs": [
    {
     "name": "stderr",
     "output_type": "stream",
     "text": [
      "/Users/kaushikpaul/opt/anaconda3/envs/Enigma_fork/lib/python3.7/site-packages/ipykernel_launcher.py:1: UserWarning: loadtxt: Empty input file: \"fork_data.txt\"\n",
      "  \"\"\"Entry point for launching an IPython kernel.\n"
     ]
    },
    {
     "data": {
      "text/plain": [
       "array([], dtype=float64)"
      ]
     },
     "execution_count": 8,
     "metadata": {},
     "output_type": "execute_result"
    }
   ],
   "source": [
    "np.loadtxt(\"fork_data.txt\")"
   ]
  },
  {
   "cell_type": "code",
   "execution_count": 9,
   "metadata": {},
   "outputs": [
    {
     "name": "stdout",
     "output_type": "stream",
     "text": [
      "total 4716\n",
      "-rwxr-xr-x  1 kaushikpaul staff    1223 Sep 21 16:58 00boot\n",
      "-rw-r--r--  1 kaushikpaul staff    8931 Sep 21 16:58 CONTRIBUTING.md\n",
      "-rw-r--r--  1 kaushikpaul staff   18092 Sep 21 16:58 COPYING\n",
      "-rw-r--r--  1 kaushikpaul staff 4425081 Sep 13 17:08 ENIGMA.h5\n",
      "-rw-r--r--  1 kaushikpaul staff    8416 Jan 13 13:06 Forked.ipynb\n",
      "-rw-r--r--  1 kaushikpaul staff   34113 Oct 25 17:02 Makefile\n",
      "-rw-r--r--  1 kaushikpaul staff    2536 Sep 21 16:58 Makefile.am\n",
      "-rw-r--r--  1 kaushikpaul staff   32432 Oct 25 17:02 Makefile.in\n",
      "-rw-r--r--  1 kaushikpaul staff    2993 Sep 21 16:58 README.md\n",
      "-rw-r--r--  1 kaushikpaul staff    2151 Sep 21 16:58 RELEASE.md\n",
      "-rw-r--r--  1 kaushikpaul staff   39046 Oct 25 17:01 aclocal.m4\n",
      "drwxr-xr-x  7 kaushikpaul staff     224 Oct 25 17:02 autom4te.cache\n",
      "drwxr-xr-x  5 kaushikpaul staff     160 Sep 21 16:58 conda\n",
      "-rw-r--r--  1 kaushikpaul staff   16247 Oct 25 17:06 config.log\n",
      "-rwxr-xr-x  1 kaushikpaul staff   28526 Oct 25 17:02 config.status\n",
      "-rwxr-xr-x  1 kaushikpaul staff  153335 Oct 25 17:02 configure\n",
      "-rw-r--r--  1 kaushikpaul staff    5725 Sep 21 16:58 configure.ac\n",
      "drwxr-xr-x  3 kaushikpaul staff      96 Sep 21 16:58 docker\n",
      "drwxr-xr-x 12 kaushikpaul staff     384 Sep 21 16:58 doxygen\n",
      "-rw-r--r--  1 kaushikpaul staff       0 Jan 13 13:06 fork_data.txt\n",
      "drwxr-xr-x 33 kaushikpaul staff    1056 Sep 21 17:16 gnuscripts\n",
      "drwxr-xr-x 39 kaushikpaul staff    1248 Jan  4 19:48 lal\n",
      "drwxr-xr-x 31 kaushikpaul staff     992 Dec  6 18:39 lalapps\n",
      "drwxr-xr-x 37 kaushikpaul staff    1184 Dec  6 18:38 lalburst\n",
      "drwxr-xr-x 37 kaushikpaul staff    1184 Dec  6 18:21 lalframe\n",
      "drwxr-xr-x 37 kaushikpaul staff    1184 Dec  6 18:38 lalinference\n",
      "drwxr-xr-x 37 kaushikpaul staff    1184 Dec  6 18:38 lalinspiral\n",
      "drwxr-xr-x 37 kaushikpaul staff    1184 Dec  6 18:21 lalmetaio\n",
      "drwxr-xr-x 37 kaushikpaul staff    1184 Jan  4 19:53 lalpulsar\n",
      "drwxr-xr-x 38 kaushikpaul staff    1216 Dec  6 18:21 lalsimulation\n",
      "-rw-r--r--  1 kaushikpaul staff     793 Oct 25 17:06 lalsuite-user-env.csh\n",
      "-rw-r--r--  1 kaushikpaul staff     757 Oct 25 17:06 lalsuite-user-env.fish\n",
      "-rw-r--r--  1 kaushikpaul staff     739 Oct 25 17:06 lalsuite-user-env.sh\n",
      "-rw-r--r--  1 kaushikpaul staff    2283 Oct 25 17:06 lalsuite-user-env.shell\n",
      "-rw-r--r--  1 kaushikpaul staff     262 Oct 25 17:06 lalsuiterc\n",
      "drwxr-xr-x  4 kaushikpaul staff     128 Sep 21 16:58 swig\n",
      "drwxr-xr-x  5 kaushikpaul staff     160 Sep 21 16:58 test\n",
      "drwxr-xr-x  9 kaushikpaul staff     288 Oct 25 17:02 wheel\n"
     ]
    }
   ],
   "source": [
    "!ls -l"
   ]
  },
  {
   "cell_type": "code",
   "execution_count": 10,
   "metadata": {},
   "outputs": [
    {
     "name": "stdout",
     "output_type": "stream",
     "text": [
      "total 4716\r\n",
      "-rw-r--r--  1 kaushikpaul staff    9910 Jan 13 13:08 Forked.ipynb\r\n",
      "-rw-r--r--  1 kaushikpaul staff       0 Jan 13 13:06 fork_data.txt\r\n",
      "drwxr-xr-x 37 kaushikpaul staff    1184 Jan  4 19:53 lalpulsar\r\n",
      "drwxr-xr-x 39 kaushikpaul staff    1248 Jan  4 19:48 lal\r\n",
      "drwxr-xr-x 31 kaushikpaul staff     992 Dec  6 18:39 lalapps\r\n",
      "drwxr-xr-x 37 kaushikpaul staff    1184 Dec  6 18:38 lalinference\r\n",
      "drwxr-xr-x 37 kaushikpaul staff    1184 Dec  6 18:38 lalinspiral\r\n",
      "drwxr-xr-x 37 kaushikpaul staff    1184 Dec  6 18:38 lalburst\r\n",
      "drwxr-xr-x 38 kaushikpaul staff    1216 Dec  6 18:21 lalsimulation\r\n",
      "drwxr-xr-x 37 kaushikpaul staff    1184 Dec  6 18:21 lalmetaio\r\n",
      "drwxr-xr-x 37 kaushikpaul staff    1184 Dec  6 18:21 lalframe\r\n",
      "-rw-r--r--  1 kaushikpaul staff     262 Oct 25 17:06 lalsuiterc\r\n",
      "-rw-r--r--  1 kaushikpaul staff     757 Oct 25 17:06 lalsuite-user-env.fish\r\n",
      "-rw-r--r--  1 kaushikpaul staff     739 Oct 25 17:06 lalsuite-user-env.sh\r\n",
      "-rw-r--r--  1 kaushikpaul staff     793 Oct 25 17:06 lalsuite-user-env.csh\r\n",
      "-rw-r--r--  1 kaushikpaul staff    2283 Oct 25 17:06 lalsuite-user-env.shell\r\n",
      "-rw-r--r--  1 kaushikpaul staff   16247 Oct 25 17:06 config.log\r\n",
      "drwxr-xr-x  9 kaushikpaul staff     288 Oct 25 17:02 wheel\r\n",
      "-rw-r--r--  1 kaushikpaul staff   34113 Oct 25 17:02 Makefile\r\n",
      "-rwxr-xr-x  1 kaushikpaul staff   28526 Oct 25 17:02 config.status\r\n",
      "-rw-r--r--  1 kaushikpaul staff   32432 Oct 25 17:02 Makefile.in\r\n",
      "drwxr-xr-x  7 kaushikpaul staff     224 Oct 25 17:02 autom4te.cache\r\n",
      "-rwxr-xr-x  1 kaushikpaul staff  153335 Oct 25 17:02 configure\r\n",
      "-rw-r--r--  1 kaushikpaul staff   39046 Oct 25 17:01 aclocal.m4\r\n",
      "drwxr-xr-x 33 kaushikpaul staff    1056 Sep 21 17:16 gnuscripts\r\n",
      "drwxr-xr-x  5 kaushikpaul staff     160 Sep 21 16:58 test\r\n",
      "drwxr-xr-x  4 kaushikpaul staff     128 Sep 21 16:58 swig\r\n",
      "drwxr-xr-x 12 kaushikpaul staff     384 Sep 21 16:58 doxygen\r\n",
      "drwxr-xr-x  3 kaushikpaul staff      96 Sep 21 16:58 docker\r\n",
      "-rw-r--r--  1 kaushikpaul staff    5725 Sep 21 16:58 configure.ac\r\n",
      "drwxr-xr-x  5 kaushikpaul staff     160 Sep 21 16:58 conda\r\n",
      "-rw-r--r--  1 kaushikpaul staff    2151 Sep 21 16:58 RELEASE.md\r\n",
      "-rw-r--r--  1 kaushikpaul staff    2993 Sep 21 16:58 README.md\r\n",
      "-rw-r--r--  1 kaushikpaul staff    2536 Sep 21 16:58 Makefile.am\r\n",
      "-rw-r--r--  1 kaushikpaul staff   18092 Sep 21 16:58 COPYING\r\n",
      "-rw-r--r--  1 kaushikpaul staff    8931 Sep 21 16:58 CONTRIBUTING.md\r\n",
      "-rwxr-xr-x  1 kaushikpaul staff    1223 Sep 21 16:58 00boot\r\n",
      "-rw-r--r--  1 kaushikpaul staff 4425081 Sep 13 17:08 ENIGMA.h5\r\n"
     ]
    }
   ],
   "source": [
    "!ls -lt"
   ]
  },
  {
   "cell_type": "code",
   "execution_count": null,
   "metadata": {},
   "outputs": [],
   "source": []
  }
 ],
 "metadata": {
  "kernelspec": {
   "display_name": "EnigmaFork",
   "language": "python",
   "name": "enigmafork"
  },
  "language_info": {
   "codemirror_mode": {
    "name": "ipython",
    "version": 3
   },
   "file_extension": ".py",
   "mimetype": "text/x-python",
   "name": "python",
   "nbconvert_exporter": "python",
   "pygments_lexer": "ipython3",
   "version": "3.7.10"
  }
 },
 "nbformat": 4,
 "nbformat_minor": 2
}
